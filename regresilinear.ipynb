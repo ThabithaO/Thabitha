{
 "cells": [
  {
   "cell_type": "code",
   "execution_count": 3,
   "metadata": {},
   "outputs": [
    {
     "data": {
      "image/png": "[encoded data removed]",
      "text/plain": [
       "<Figure size 432x288 with 1 Axes>"
      ]
     },
     "metadata": {
      "needs_background": "light"
     },
     "output_type": "display_data"
    },
    {
     "name": "stdout",
     "output_type": "stream",
     "text": [
      "Jika tinggi badan adalah 150 maka berat badannya adalah 56.33\n"
     ]
    }
   ],
   "source": [
    "import matplotlib.pyplot as plt\n",
    "from sklearn.linear_model import LinearRegression\n",
    "\n",
    "x = [[151],[174],[148],[185],[154],[128],[135]]\n",
    "y = [[63],[69],[50],[91],[48],[45],[47]]\n",
    "\n",
    "model = LinearRegression()\n",
    "model.fit(x,y)\n",
    "y_predict = model.predict(x)\n",
    "\n",
    "plt.figure()\n",
    "plt.plot(x, y, 'r.')\n",
    "plt.axis([120, 200, 30, 100])\n",
    "plt.xlabel(\"Tinggi badan\")\n",
    "plt.ylabel(\"Berat badan\")\n",
    "plt.grid(True)\n",
    "plt.plot(x, y_predict, color = \"Cyan\")\n",
    "plt.show()\n",
    "\n",
    "print(\"Jika tinggi badan adalah 150 maka berat badannya adalah %.2f\" %model.predict([[150]]))"
   ]
  },
  {
   "cell_type": "code",
   "execution_count": 4,
   "metadata": {},
   "outputs": [
    {
     "name": "stdout",
     "output_type": "stream",
     "text": [
      "Rata-rata data x adalah 153.57\n",
      "Rata-rata data y adalah 59.00\n",
      "Nilai sigma (xi-xbar)*(yi-ybar) adalah 1826.00\n",
      "Nilai sigma (xi-xbar)^2 adalah 2441.71\n",
      "Nilai sigma (yi-ybar)^2 adalah 1682.00\n",
      "Korelasi dari data diatas adalah 0.90\n",
      "Slope dari data di atas adalah 0.75\n",
      "Intercept dari data di atas adalah -55.85\n"
     ]
    }
   ],
   "source": [
    "import numpy as np\n",
    "\n",
    "x = [[151],[174],[148],[185],[154],[128],[135]]\n",
    "y = [[63],[69],[50],[91],[48],[45],[47]]\n",
    "\n",
    "m = np.mean(x)\n",
    "n = np.mean(y)\n",
    "print(\"Rata-rata data x adalah %.2f\" %m)\n",
    "print(\"Rata-rata data y adalah %.2f\" %n)\n",
    "\n",
    "i,j,k=0,0,0\n",
    "for r in range(len(x)):\n",
    "    i+=(x[r]-m)*(y[r]-n)\n",
    "    j+=np.square(x[r]-m)\n",
    "    k+=np.square(y[r]-n)\n",
    "\n",
    "q = i/(np.sqrt(j*k))\n",
    "s = i/j\n",
    "t = n-(s*m)\n",
    "\n",
    "print(\"Nilai sigma (xi-xbar)*(yi-ybar) adalah %.2f\" %i)\n",
    "print(\"Nilai sigma (xi-xbar)^2 adalah %.2f\" %j)\n",
    "print(\"Nilai sigma (yi-ybar)^2 adalah %.2f\" %k)\n",
    "print(\"Korelasi dari data diatas adalah %.2f\" %q)\n",
    "print(\"Slope dari data di atas adalah %.2f\" %s)\n",
    "print(\"Intercept dari data di atas adalah %.2f\" %t)"
   ]
  },
  {
   "cell_type": "code",
   "execution_count": null,
   "metadata": {},
   "outputs": [],
   "source": []
  }
 ],
 "metadata": {
  "kernelspec": {
   "display_name": "Python 3",
   "language": "python",
   "name": "python3"
  },
  "language_info": {
   "codemirror_mode": {
    "name": "ipython",
    "version": 3
   },
   "file_extension": ".py",
   "mimetype": "text/x-python",
   "name": "python",
   "nbconvert_exporter": "python",
   "pygments_lexer": "ipython3",
   "version": "3.8.3"
  }
 },
 "nbformat": 4,
 "nbformat_minor": 4
}
